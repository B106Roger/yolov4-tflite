{
 "cells": [
  {
   "cell_type": "code",
   "execution_count": 4,
   "metadata": {},
   "outputs": [],
   "source": [
    "f1 = open(\"train_3cls.txt\",'r')\n",
    "f2 = open(\"train_real_3cls.txt\",'w')\n",
    "\n",
    "for line in f1:\n",
    "    f2.write(\"/home/tsneg-aimm/Garmin/real_data/images\"+line[25:])\n",
    "    # print(\"/home/tsneg-aimm/Garmin/real_data/images\"+line[25:],end='')"
   ]
  },
  {
   "cell_type": "code",
   "execution_count": 6,
   "metadata": {},
   "outputs": [],
   "source": [
    "f1 = open(\"val_sort_3cls.txt\",'r')\n",
    "f2 = open(\"val_real_3cls.txt\",'w')\n",
    "\n",
    "for line in f1:\n",
    "    f2.write(\"/home/tsneg-aimm/Garmin/real_data/images\"+line[25:])\n",
    "    # print(\"/home/tsneg-aimm/Garmin/real_data/images\"+line[25:],end='')"
   ]
  },
  {
   "cell_type": "code",
   "execution_count": null,
   "id": "055f4339",
   "metadata": {},
   "outputs": [],
   "source": []
  }
 ],
 "metadata": {
  "interpreter": {
   "hash": "a975170179868fd17f510bb461f77eb1281fb55f63fe36a92dbead4c61d46209"
  },
  "kernelspec": {
   "display_name": "Python 3.8.12 64-bit ('tf2.3': conda)",
   "name": "python3"
  },
  "language_info": {
   "codemirror_mode": {
    "name": "ipython",
    "version": 3
   },
   "file_extension": ".py",
   "mimetype": "text/x-python",
   "name": "python",
   "nbconvert_exporter": "python",
   "pygments_lexer": "ipython3",
   "version": "3.8.12"
  }
 },
 "nbformat": 4,
 "nbformat_minor": 5
}
