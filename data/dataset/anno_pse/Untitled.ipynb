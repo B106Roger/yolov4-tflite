{
 "cells": [
  {
   "cell_type": "code",
   "execution_count": 30,
   "source": [
    "f = open(\"val_pse_1cls.txt\",'r')\n",
    "f1 = open(\"../val_pse_1cls.txt\",'w')\n",
    "\n",
    "for line in f:\n",
    "    #print(\"/home/tsneg-aimm/Garmin/pse_data/val/\"+line[35:],end='')\n",
    "    f1.write(\"/home/tsneg-aimm/Garmin/pse_data/val/\"+line[35:])"
   ],
   "outputs": [],
   "metadata": {}
  },
  {
   "cell_type": "code",
   "execution_count": 24,
   "source": [
    "ls"
   ],
   "outputs": [
    {
     "output_type": "stream",
     "name": "stdout",
     "text": [
      "cat_txt.sh          train_mix_4cls.txt  Untitled.ipynb    val_mix_4cls.txt\n",
      "train_mix_1cls.txt  train_pse_1cls.txt  val_mix_1cls.txt  val_pse_1cls.txt\n",
      "train_mix_3cls.txt  train_pse_4cls.txt  val_mix_3cls.txt  val_pse_4cls.txt\n"
     ]
    }
   ],
   "metadata": {}
  },
  {
   "cell_type": "code",
   "execution_count": null,
   "source": [],
   "outputs": [],
   "metadata": {}
  }
 ],
 "metadata": {
  "kernelspec": {
   "name": "python3",
   "display_name": "Python 3.8.12 64-bit ('tf2.3': conda)"
  },
  "language_info": {
   "codemirror_mode": {
    "name": "ipython",
    "version": 3
   },
   "file_extension": ".py",
   "mimetype": "text/x-python",
   "name": "python",
   "nbconvert_exporter": "python",
   "pygments_lexer": "ipython3",
   "version": "3.8.12"
  },
  "interpreter": {
   "hash": "a975170179868fd17f510bb461f77eb1281fb55f63fe36a92dbead4c61d46209"
  }
 },
 "nbformat": 4,
 "nbformat_minor": 5
}