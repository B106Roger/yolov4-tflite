{
 "cells": [
  {
   "cell_type": "markdown",
   "source": [],
   "metadata": {}
  },
  {
   "cell_type": "code",
   "execution_count": 28,
   "source": [
    "f1 = open(\"val_real_4cls.txt\",'r')\n",
    "boxes = []\n",
    "for line in f1:\n",
    "    a = line.split(' ')[1:]\n",
    "    for box in a:\n",
    "        x1,y1,x2,y2 = box.split(',')[0:4]\n",
    "        size = (int(x2)-int(x1))*(int(y2)-int(y1))\n",
    "        boxes.append(size)\n",
    "boxes = sorted(boxes)\n",
    "num_box = len(boxes)\n",
    "size_s_m = boxes[int(num_box*0.4)]\n",
    "size_m_l = boxes[int(num_box*0.75)]\n",
    "print(\"size s-m : \",size_s_m)\n",
    "print(\"size m-l : \",size_m_l)\n"
   ],
   "outputs": [
    {
     "output_type": "stream",
     "name": "stdout",
     "text": [
      "size s-m :  330\n",
      "size m-l :  1323\n"
     ]
    }
   ],
   "metadata": {}
  },
  {
   "cell_type": "code",
   "execution_count": 10,
   "source": [
    "f = open(\"val_pse_3cls_1.txt\",'r')\n",
    "f1 = open(\"val_pse_3cls.txt\",'w')\n",
    "\n",
    "for line in f:\n",
    "    f1.write(line[:38]+line[40:])"
   ],
   "outputs": [],
   "metadata": {}
  },
  {
   "cell_type": "code",
   "execution_count": 26,
   "source": [
    "import pathlib\n",
    "\n",
    "#text_dir = pathlib.Path('/home/tsneg-aimm/Garmin/coco-evaluation/example/ground-truth-real-3cls_1')\n",
    "text_dir = pathlib.Path('/home/tsneg-aimm/Garmin/coco-evaluation/example/predicted-real-3cls_1')\n",
    "#path = '/home/tsneg-aimm/Garmin/coco-evaluation/example/ground-truth-real-3cls/'\n",
    "path = '/home/tsneg-aimm/Garmin/coco-evaluation/example/predicted-real-3cls/'\n",
    "\n",
    "sentences = []\n",
    "for text_path in text_dir.glob(\"*.txt\"):\n",
    "    f = open(text_path,'r')\n",
    "    name = str(text_path).split('/')[-1]\n",
    "    f1 = open(path+name,'w')\n",
    "    for line in f:\n",
    "        #print(line,end='')\n",
    "        box = line.split(' ')\n",
    "        y_del = float(box[4]) - float(box[2])\n",
    "        if y_del > 8.0:\n",
    "            f1.write(line)\n",
    "    f.close()\n",
    "    f1.close()\n",
    "    #print()\n",
    "        "
   ],
   "outputs": [],
   "metadata": {}
  },
  {
   "cell_type": "code",
   "execution_count": 5,
   "source": [],
   "outputs": [
    {
     "output_type": "stream",
     "name": "stdout",
     "text": [
      "/home/tsneg-aimm/Garmin/yolov4-tflite/data\n"
     ]
    }
   ],
   "metadata": {}
  },
  {
   "cell_type": "code",
   "execution_count": null,
   "source": [],
   "outputs": [],
   "metadata": {}
  }
 ],
 "metadata": {
  "interpreter": {
   "hash": "a975170179868fd17f510bb461f77eb1281fb55f63fe36a92dbead4c61d46209"
  },
  "kernelspec": {
   "name": "python3",
   "display_name": "Python 3.8.12 64-bit ('tf2.3': conda)"
  },
  "language_info": {
   "codemirror_mode": {
    "name": "ipython",
    "version": 3
   },
   "file_extension": ".py",
   "mimetype": "text/x-python",
   "name": "python",
   "nbconvert_exporter": "python",
   "pygments_lexer": "ipython3",
   "version": "3.8.12"
  }
 },
 "nbformat": 4,
 "nbformat_minor": 2
}