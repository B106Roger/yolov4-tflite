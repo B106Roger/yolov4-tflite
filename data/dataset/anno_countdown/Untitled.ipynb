{
 "cells": [
  {
   "cell_type": "code",
   "execution_count": 11,
   "metadata": {},
   "outputs": [],
   "source": [
    "f1 = open(\"/home/tsneg-aimm/Garmin/yolov4-tflite/data/dataset/anno_countdown/new_val_3cls.txt\",'r')\n",
    "f2 = open(\"../val_new_countdown_3cls.txt\",'w')\n",
    "\n",
    "for line in f1:\n",
    "    # print(\"/home/tsneg-aimm/Garmin/\"+line[9:],end='')\n",
    "    f2.write(\"/home/tsneg-aimm/Garmin/\"+line[9:])"
   ]
  },
  {
   "cell_type": "code",
   "execution_count": null,
   "metadata": {},
   "outputs": [],
   "source": []
  }
 ],
 "metadata": {
  "interpreter": {
   "hash": "a975170179868fd17f510bb461f77eb1281fb55f63fe36a92dbead4c61d46209"
  },
  "kernelspec": {
   "display_name": "Python 3.8.12 64-bit ('tf2.3': conda)",
   "name": "python3"
  },
  "language_info": {
   "codemirror_mode": {
    "name": "ipython",
    "version": 3
   },
   "file_extension": ".py",
   "mimetype": "text/x-python",
   "name": "python",
   "nbconvert_exporter": "python",
   "pygments_lexer": "ipython3",
   "version": "3.8.12"
  }
 },
 "nbformat": 4,
 "nbformat_minor": 5
}
