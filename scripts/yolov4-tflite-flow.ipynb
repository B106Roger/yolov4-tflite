{
 "cells": [
  {
   "cell_type": "markdown",
   "metadata": {},
   "source": [
    "# Traing"
   ]
  },
  {
   "cell_type": "code",
   "execution_count": null,
   "metadata": {
    "scrolled": true
   },
   "outputs": [],
   "source": [
    "# Change input_size(320,416,640) in core/config.py\n",
    "\n",
    "# Train w/o Quantize Aware Training\n",
    "!python train.py --tiny --model yolov4 --weights data/yolov4.weights\n",
    "# Train w/ Quantize Aware Training\n",
    "!python train.py --qat --tiny --model yolov4 --weights data/yolov4.weights"
   ]
  },
  {
   "cell_type": "markdown",
   "metadata": {},
   "source": [
    "# Save model"
   ]
  },
  {
   "cell_type": "code",
   "execution_count": null,
   "metadata": {
    "scrolled": true
   },
   "outputs": [],
   "source": [
    "# save to pb \n",
    "!python save_model.py --weights data/yolo/yolo --output checkpoints/v3-416-qat-pb --input_size 608 --tiny --qat\n",
    "# save to tf then can convert to tflite\n",
    "!python save_model.py --weights data/yolo/yolo --output checkpoints/v3-416-qat-pb --input_size 608 --tiny --qat --framework tflite\n"
   ]
  },
  {
   "cell_type": "markdown",
   "metadata": {},
   "source": [
    "# Detect image"
   ]
  },
  {
   "cell_type": "code",
   "execution_count": null,
   "metadata": {
    "scrolled": true
   },
   "outputs": [],
   "source": [
    "# Pb fp32\n",
    "!python detect.py --weights ./checkpoints/v4-608-qat-pb --input_size 608 --tiny --model yolov4 --image \n",
    "# tflite fp32\n",
    "!python detect.py --weights ./checkpoints/v4-608-qat-pb --input_size 608 --tiny --model yolov4 --framework tflite --image \n",
    "# tflite fp16\n",
    "!python detect.py --weights ./checkpoints/v4-608-qat-pb --input_size 608 --tiny --model yolov4 --framework tflite --image \n",
    "# tflite int8\n",
    "!python detect.py --weights ./checkpoints/v4-608-qat-pb --input_size 608 --tiny --model yolov4 --framework tflite --image \n"
   ]
  },
  {
   "cell_type": "markdown",
   "metadata": {},
   "source": [
    "# Detet Video "
   ]
  },
  {
   "cell_type": "code",
   "execution_count": null,
   "metadata": {},
   "outputs": [],
   "source": [
    "!python detectvideo.py --weights checkpoints/test-pb --size 608 --tiny --video data/GRMN2088.MP4 --output result.mp4"
   ]
  },
  {
   "cell_type": "markdown",
   "metadata": {},
   "source": [
    "# Evaluate "
   ]
  },
  {
   "cell_type": "code",
   "execution_count": null,
   "metadata": {
    "scrolled": true
   },
   "outputs": [],
   "source": [
    "# Pb fp32\n",
    "!python evaluate.py --weights ./checkpoints/v4-608-mix-3cls-pb --model yolov4 --input_size 608 --annotation_path data/dataset/\n",
    "# tflite fp32\n",
    "!python evaluate.py --weights ./checkpoints/ --input_size 608 --annotation_path data/dataset/ --framework tflite\n",
    "# tflite int8\n",
    "!python evaluate.py --weights ./checkpoints/ --input_size 608 --annotation_path data/dataset/ --framework tflite\n",
    "# tflite int8\n",
    "!python evaluate.py --weights ./checkpoints/v4-608-mix-3cls-int8.tflite --input_size 608 --annotation_path data/dataset/ --framework tflite"
   ]
  },
  {
   "cell_type": "code",
   "execution_count": null,
   "metadata": {},
   "outputs": [],
   "source": [
    "cd mAP/extra\n",
    "!python remove_space.py\n",
    "cd ..\n",
    "!python main.py --output results_yolov4_tf"
   ]
  },
  {
   "cell_type": "markdown",
   "metadata": {},
   "source": [
    "# Convert to TFlite ( need to upgrade tensorflow to 2.8 )"
   ]
  },
  {
   "cell_type": "code",
   "execution_count": null,
   "metadata": {
    "scrolled": true
   },
   "outputs": [],
   "source": [
    "# fp32\n",
    "!python convert_tflite.py --output ./checkpoints/v4-608-qat-relu-fp32.tflite --weights ./checkpoints/v4-608-qat-relu-tf --input_size 608\n",
    "#fp16\n",
    "!python convert_tflite.py --quantize_mode float16 --output ./checkpoints/v4-608-qat-relu-fp32.tflite --weights ./checkpoints/v4-608-qat-relu-tf --input_size 608\n",
    "#int8 \n",
    "!python convert_tflite.py --quantize_mode int8 --output ./checkpoints/v4-608-qat-relu-fp32.tflite --weights ./checkpoints/v4-608-qat-relu-tf --input_size 608 --dataset data/dataset/pse_val_4cls.txt"
   ]
  },
  {
   "cell_type": "code",
   "execution_count": null,
   "metadata": {},
   "outputs": [],
   "source": []
  },
  {
   "cell_type": "code",
   "execution_count": null,
   "metadata": {},
   "outputs": [],
   "source": []
  }
 ],
 "metadata": {
  "interpreter": {
   "hash": "cd3434fe2ad9327ca5d126728e32d9b2294b4459d421ba6221a8b35ae02c0468"
  },
  "kernelspec": {
   "display_name": "Python 3.8.8 64-bit ('base': conda)",
   "name": "python3"
  },
  "language_info": {
   "codemirror_mode": {
    "name": "ipython",
    "version": 3
   },
   "file_extension": ".py",
   "mimetype": "text/x-python",
   "name": "python",
   "nbconvert_exporter": "python",
   "pygments_lexer": "ipython3",
   "version": "3.8.8"
  }
 },
 "nbformat": 4,
 "nbformat_minor": 2
}
